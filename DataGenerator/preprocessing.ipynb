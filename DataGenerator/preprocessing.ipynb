{
 "cells": [
  {
   "cell_type": "code",
   "execution_count": 1,
   "id": "f67382bf",
   "metadata": {
    "ExecuteTime": {
     "end_time": "2024-06-05T04:13:47.979719Z",
     "start_time": "2024-06-05T04:13:38.356249Z"
    }
   },
   "outputs": [],
   "source": [
    "file_path = '/workspace/KCC_LLM/021.도서자료_기계독해/01.데이터/~~~'\n",
    "file_path = '/workspace/KCC_LLM/021.도서자료_기계독해/01.데이터/1.Training/라벨링데이터/도서/도서_220419_add/도서_220419_add.json'\n",
    "\n",
    "with open(file_path, 'r', encoding='utf-8') as file:\n",
    "    data = json.load(file)"
   ]
  },
  {
   "cell_type": "code",
   "execution_count": 3,
   "id": "4abb9412",
   "metadata": {
    "ExecuteTime": {
     "end_time": "2024-06-05T04:14:41.722267Z",
     "start_time": "2024-06-05T04:14:41.716656Z"
    }
   },
   "outputs": [
    {
     "data": {
      "text/plain": [
       "dict_keys(['version', 'data'])"
      ]
     },
     "execution_count": 3,
     "metadata": {},
     "output_type": "execute_result"
    }
   ],
   "source": [
    "data.keys()\n"
   ]
  },
  {
   "cell_type": "code",
   "execution_count": 6,
   "id": "a849b7a4",
   "metadata": {
    "ExecuteTime": {
     "end_time": "2024-06-05T04:15:30.002437Z",
     "start_time": "2024-06-05T04:15:29.996481Z"
    }
   },
   "outputs": [
    {
     "data": {
      "text/plain": [
       "5368"
      ]
     },
     "execution_count": 6,
     "metadata": {},
     "output_type": "execute_result"
    }
   ],
   "source": [
    "len(data['data']"
   ]
  },
  {
   "cell_type": "code",
   "execution_count": 8,
   "id": "76299833",
   "metadata": {
    "ExecuteTime": {
     "end_time": "2024-06-05T04:15:49.028434Z",
     "start_time": "2024-06-05T04:15:49.021128Z"
    }
   },
   "outputs": [
    {
     "data": {
      "text/plain": [
       "{'time': '20201029155418',\n",
       " 'title': '특별법 이행을 위한 항만 대기오염물질 관리제도 정비 시급',\n",
       " 'agency': '한국해양수산개발원',\n",
       " 'year': '2019',\n",
       " 'content_id': 'CNTS-00120000080',\n",
       " 'KDC': '320',\n",
       " 'paragraphs': [{'context': '또한, 정책 및 사업의 본격 추진을 위한 재원의 확보 방안을 마련해야 한다. 특별법의 하위 법령 또는 관련 법령의 제·개정을 통해 불이행 행위자에 강제 이행 유도를 위한 벌금 또는 ‘오염 원인자 부담’의 원칙에 따른 ‘해양 대기오염 부담금(안)’을 부과할 수 있다. 부담금 징수로 인한 재정 수익분을 항만의 대기환경 개선을 위한 특별회계에서 수용하도록 하고, 예산의 배분에 있어서도 사업의 시급성, 파급 효과 등을 고려하여 사업의 우선순위에 차등을 두어 지원하는 ‘선택과 집중’의 전략적 방법론을 적용해야 한다. 이와 더불어 유관 부처 및 기관 등 주요 정책 행위자들의 업무 역할과 기능, 나아가 의무 및 권한의 범위 등에 대한 명확한 법적 근거 역시 시급하게 마련되어야 한다. 각 부처 및 기관별로 사업을 추진하고 개별성과를 기계적으로 취합하는 현재의 방식보다는, 통합 관리 차원에서 유관 부처·기관 간 공동 연구개발 및 조사, 공공 데이터 차원의 정보 연계·공유 및 활용 등을 통해 정책 및 사업의 효율성을 높이고, 공동의 사회 문제 해결을 위한 시너지의 도출이 필요하다.',\n",
       "   'qas': [{'question': '예산을 분배할 때 사업의 우선 순위를 정해서 차등 지원하는 방법을 뭐라고 하지',\n",
       "     'id': 1063333,\n",
       "     'is_impossible': False,\n",
       "     'answers': [{'text': '선택과 집중', 'answer_start': 260}]},\n",
       "    {'question': '사업의 우선 순위를 정해서 예산을 차등적으로 나눠주는 방법을 뭐라고 해',\n",
       "     'id': 1063334,\n",
       "     'is_impossible': False,\n",
       "     'answers': [{'text': '선택과 집중', 'answer_start': 260}]},\n",
       "    {'question': '사업의 우선 순위로 예산을 차등 분배하는 방법을 뭐라고 불러',\n",
       "     'id': 1063335,\n",
       "     'is_impossible': False,\n",
       "     'answers': [{'text': '선택과 집중', 'answer_start': 260}]},\n",
       "    {'question': '뭐가 사업의 크기를 정해서 예산을 차등 지원한다고 하니',\n",
       "     'id': 1063336,\n",
       "     'is_impossible': True,\n",
       "     'answers': [{'text': '선택과 집중', 'answer_start': 260}]}]},\n",
       "  {'context': '최근 국민적 관심에 힘입어 미세먼지 등 대기오염 문제가 커다란 사회적 현안으로 등장하고 있다. 특히 대형 선박의 입출항 및 정박은 물론 하역, 운송 등의 활동이 이루어지는 항만은 오랜 시간 동안 배출관리의 사각지대에 남아있었으나, 항만 인근 지역은 물론 국가 대기오염의 주된 원인으로 지목되고 있다. 해마다 환경부가 발표하는 ‘국가 대기오염물질 배출량 통계’에서 국가 전체 배출량 중 선박에 의한 배출 비중이 매우 높게 나타나고 있으며 주요 항만을 포함하는 지역의 선박 배출량 규모 역시 매우 크게 나타나고 있기 때문이다. 항만의 배출저감 및 관리를 위한 대책이 시급한 이유가 여기에 있다. 이에, 환경부는 미세먼지 및 미세먼지 생성물질의 배출을 저감하고 종합적으로 관리하기 위한 「미세먼지 저감 및 관리에 관한 특별법」을 제정하여 지난 2월부터 시행 중이다. 해양수산부 역시 항만 및 인근 영향지역의 미세먼지 배출과 오염을 집중 관리함과 동시에 환경친화적 선박을 확대하고 친환경 항만 인프라를 구축하기 위한 「항만지역 등 대기질 개선에 관한 특별법안」을 국회와 공조하여 지난 3월 13일 제정하였으며 2020년 1월부터 시행 예정이다.',\n",
       "   'qas': [{'question': '미세먼지 생성물질의 배출을 저감하고 종합적으로 관리하기 위한 법을 어디서 제정했니',\n",
       "     'id': 1063321,\n",
       "     'is_impossible': False,\n",
       "     'answers': [{'text': '환경부', 'answer_start': 335}]},\n",
       "    {'question': '어디에서 미세먼지 생성물질의 배출을 줄이고 종합적으로 관리하기 위한 법을 제정했는가',\n",
       "     'id': 1063322,\n",
       "     'is_impossible': False,\n",
       "     'answers': [{'text': '환경부', 'answer_start': 335}]},\n",
       "    {'question': '미세먼지 생성물질을 적게 배출하고 종합적으로 관리하기 위한 법을 정한 곳은 어디일까',\n",
       "     'id': 1063323,\n",
       "     'is_impossible': False,\n",
       "     'answers': [{'text': '환경부', 'answer_start': 335}]},\n",
       "    {'question': '어디에서 대형 선박의 입출항 및 정박을 종합적으로 관리하기 위한 법을 제정했지',\n",
       "     'id': 1063324,\n",
       "     'is_impossible': True,\n",
       "     'answers': [{'text': '환경부', 'answer_start': 335}]}]},\n",
       "  {'context': '특별법의 제정으로 항만의 대기오염을 방지·저감하기 위한 정책 및 사업 추진의 법적 근거는 마련되었으나, 하위 법령 및 관련 법령의 제·개정을 통하여 특별법 이행을 위한 구체적 사항들을 규정하는 동시에 항만지역의 대기질을 획기적으로 개선하기 위한 사업을 발굴하고 이를 추진하기 위한 유관 부처·기관 간 협의, 재원 마련을 위한 작업 등이 신속하게 이루어져야 하는 시점이다. 과거 정부 및 항만당국, 유관 기관들의 전 방위적인 대응에도 불구하고 항만에 대한 대기오염 저감 정책 및 사업 추진에 따른 성과가 뚜렷하게 나타나지 않았으며, 오히려 국민이 체감하는 대기 환경의 질은 더욱 악화되고 있는 것으로 보고되고 있다. 새로이 제정된 특별법을 견실하게 이행하고 나아가 항만지역 대기질을 획기적으로 개선하기 위해서는, 이후 관련 법령의 제·개정, 그리고 예산을 확보·집행하는 과정에서 기존 제도의 문제점 및 이를 개선하기 위한 방안이 충분히 고려되어야 한다.',\n",
       "   'qas': [{'question': '특별법의 제정으로 어떤 장소의 대기오염을 방지하기 위한 정책의 법적 근거가 마련되었어',\n",
       "     'id': 1063325,\n",
       "     'is_impossible': False,\n",
       "     'answers': [{'text': '항만', 'answer_start': 10}]},\n",
       "    {'question': '어떤 장소의 대기오염을 방지하기 위한 정책의 법적 근거가 특별법의 제정으로 준비되었지',\n",
       "     'id': 1063326,\n",
       "     'is_impossible': False,\n",
       "     'answers': [{'text': '항만', 'answer_start': 10}]},\n",
       "    {'question': '대기오염을 어떤 장소에서 예방하려는 정책의 법적 근거가 특별법의 제정으로 마련됐니',\n",
       "     'id': 1063327,\n",
       "     'is_impossible': False,\n",
       "     'answers': [{'text': '항만', 'answer_start': 10}]},\n",
       "    {'question': '어떤 장소의 수질오염을 방지하기 위한 정책의 법적 근거가 특별법의 제정으로 준비되었을까',\n",
       "     'id': 1063328,\n",
       "     'is_impossible': True,\n",
       "     'answers': [{'text': '항만', 'answer_start': 10}]}]}]}"
      ]
     },
     "execution_count": 8,
     "metadata": {},
     "output_type": "execute_result"
    }
   ],
   "source": [
    "# paragraphs\n",
    "    # list\n",
    "        # context\n",
    "        # qas\n",
    "            # list\n",
    "                # question\n",
    "                # is_impossible\n",
    "                # answers\n",
    "{context: , qa:[{question:,answer:},{...},{...}]}\n",
    "                \n",
    "# paragraphs\n",
    "    # list\n",
    "        # context\n",
    "        # qas\n",
    "            # list\n",
    "                # question\n",
    "                # answers\n",
    "\n",
    "\n",
    "# example\n",
    "data['data'][0]"
   ]
  },
  {
   "cell_type": "code",
   "execution_count": 53,
   "id": "ea7056ec",
   "metadata": {
    "ExecuteTime": {
     "end_time": "2024-06-05T12:22:15.431814Z",
     "start_time": "2024-06-05T12:22:15.426820Z"
    }
   },
   "outputs": [],
   "source": [
    "new_dict = {}\n",
    "is_impossible_dict = {}"
   ]
  },
  {
   "cell_type": "code",
   "execution_count": 70,
   "id": "7d9b6871",
   "metadata": {
    "ExecuteTime": {
     "end_time": "2024-06-05T12:29:14.366423Z",
     "start_time": "2024-06-05T12:29:13.291250Z"
    }
   },
   "outputs": [],
   "source": [
    "import random\n",
    "\n",
    "is_impossible_list = [\"문장에서 찾을 수 없는 답변입니다\", \"답변이 불가능 합니다\", \"지문에 없는 내용입니다.\", \"해당 문장에 답이 없습니다.\", \"본문에 해당 답변이 없습니다.\", \"답을 찾을 수 없습니다.\", \"제공된 정보로는 답변이 불가능합니다.\", \"주어진 문장에서 답을 찾을 수 없습니다.\", \"지문에 관련 정보가 없습니다.\", \"질문에 대한 답변이 없습니다.\", \"본문에서 답을 찾을 수 없습니다.\", \"문장에서 관련 정보를 찾을 수 없습니다.\", \"지문에 해당 정보가 없습니다.\", \"답변할 수 있는 정보가 없습니다.\", \"본문에 해당 답변이 존재하지 않습니다.\", \"문장에서 답변을 찾을 수 없습니다.\", \"답변이 본문에 없습니다.\", \"지문에 해당 내용이 없습니다.\", \"문장에서 관련된 내용을 찾을 수 없습니다.\", \"본문에 관련된 답변이 없습니다.\", \"질문에 대한 정보가 없습니다.\", \"해당 답변을 본문에서 찾을 수 없습니다.\", \"문장에서 답변을 제공할 수 없습니다.\", \"본문에 답변이 포함되어 있지 않습니다.\", \"지문에 관련된 답이 없습니다.\", \"답변이 가능한 정보가 없습니다.\", \"본문에서 답을 제공할 수 없습니다.\", \"문장에서 해당 답변을 찾을 수 없습니다.\", \"질문에 대한 답변이 본문에 없습니다.\", \"해당 내용이 본문에 없습니다.\", \"문장에서 답변을 찾기 어렵습니다.\", \"본문에 해당 답변이 포함되어 있지 않습니다.\", \"지문에 답변이 없습니다.\", \"문장에서 답을 제공할 수 있는 정보가 없습니다.\", \"해당 질문에 답변이 본문에 없습니다.\", \"본문에 답을 찾을 수 없습니다.\", \"문장에서 관련 답변이 없습니다.\", \"지문에 답변이 포함되어 있지 않습니다.\", \"문장에서 관련된 답변을 찾을 수 없습니다.\", \"해당 답변이 문장에 없습니다.\", \"본문에 해당 답변이 없습니다.\", \"문장에서 답변을 찾을 수 없습니다.\", \"질문에 대한 답변이 지문에 없습니다.\", \"해당 내용이 문장에서 찾을 수 없습니다.\", \"본문에 답변이 없습니다.\", \"문장에서 관련된 정보를 찾을 수 없습니다.\", \"지문에 관련된 답변이 없습니다.\", \"해당 답변이 본문에 없습니다.\", \"문장에서 해당 정보를 찾을 수 없습니다.\", \"본문에 답변이 없습니다.\", \"문장에서 답을 찾을 수 없습니다.\", \"질문에 대한 답변이 본문에 포함되어 있지 않습니다.\", \"해당 내용이 지문에 없습니다.\", \"본문에서 관련 답변을 찾을 수 없습니다.\", \"문장에서 답변을 제공할 수 없습니다.\", \"지문에 답변이 포함되어 있지 않습니다.\", \"문장에서 관련 정보를 찾을 수 없습니다.\", \"본문에 답변이 포함되어 있지 않습니다.\", \"질문에 대한 답변이 없습니다.\", \"해당 문장에서 답을 찾을 수 없습니다.\", \"본문에 관련된 답변이 없습니다.\", \"문장에서 답변을 찾기 어렵습니다.\", \"지문에 답변이 없습니다.\", \"문장에서 관련 정보를 제공할 수 없습니다.\", \"해당 질문에 대한 답변이 본문에 없습니다.\", \"본문에서 답을 찾을 수 없습니다.\", \"문장에서 관련 답변이 없습니다.\", \"지문에 답변이 포함되어 있지 않습니다.\", \"문장에서 관련된 답변을 찾을 수 없습니다.\", \"해당 답변이 문장에 없습니다.\", \"본문에 해당 답변이 없습니다.\", \"문장에서 답변을 찾을 수 없습니다.\", \"질문에 대한 답변이 지문에 없습니다.\", \"해당 내용이 문장에서 찾을 수 없습니다.\", \"본문에 답변이 없습니다.\", \"문장에서 관련된 정보를 찾을 수 없습니다.\", \"지문에 관련된 답변이 없습니다.\", \"해당 답변이 본문에 없습니다.\", \"문장에서 해당 정보를 찾을 수 없습니다.\", \"본문에 답변이 없습니다.\", \"문장에서 답을 찾을 수 없습니다.\", \"질문에 대한 답변이 본문에 포함되어 있지 않습니다.\", \"해당 내용이 지문에 없습니다.\", \"본문에서 관련 답변을 찾을 수 없습니다.\", \"문장에서 답변을 제공할 수 없습니다.\", \"지문에 답변이 포함되어 있지 않습니다.\", \"문장에서 관련 정보를 찾을 수 없습니다.\", \"본문에 답변이 포함되어 있지 않습니다.\", \"질문에 대한 답변이 없습니다.\", \"해당 문장에서 답을 찾을 수 없습니다.\", \"본문에 관련된 답변이 없습니다.\", \"문장에서 답변을 찾기 어렵습니다.\", \"지문에 답변이 없습니다.\", \"문장에서 관련 정보를 제공할 수 없습니다.\", \"해당 질문에 대한 답변이 본문에 없습니다.\", \"본문에서 답을 찾을 수 없습니다.\", \"문장에서 관련 답변이 없습니다.\", \"지문에 답변이 포함되어 있지 않습니다.\", \"문장에서 관련된 답변을 찾을 수 없습니다.\", \"해당 답변이 문장에 없습니다.\"]\n",
    "# print(random.choice(is_impossible_list))\n",
    "\n",
    "i = 0\n",
    "for d in data['data']:\n",
    "    for paragraph in d['paragraphs']:\n",
    "        context = paragraph['context']\n",
    "        new_dict[i] = {'context': context, 'qa': []}\n",
    "        is_impossible_dict[i] = {'context': context, 'qa': []}\n",
    "        for qa in paragraph['qas']:\n",
    "            instruction = qa['question']\n",
    "            response = qa['answers'][0]['text']\n",
    "            is_impossible = qa['is_impossible']\n",
    "            if is_impossible:\n",
    "                is_impossible_dict[i]['qa'].append({'instruction':instruction,'response':random.choice(is_impossible_list)})\n",
    "            else:\n",
    "                new_dict[i]['qa'].append({'instruction':instruction,'response': response})\n",
    "\n",
    "        i += 1\n",
    "\n",
    "    "
   ]
  },
  {
   "cell_type": "code",
   "execution_count": 75,
   "id": "8e2058b7",
   "metadata": {
    "ExecuteTime": {
     "end_time": "2024-06-05T12:29:37.048469Z",
     "start_time": "2024-06-05T12:29:37.040534Z"
    }
   },
   "outputs": [
    {
     "data": {
      "text/plain": [
       "{'context': '여러 연구들에서 아동학대와 아내학대가 중복적으로 발생하거나 아동학대 유발 요인 중 하나인 부부폭력과의 관련성을 제기하고 있다(김갑숙,1991 , 신영화, 1986, 소숙희, 1986, 김재엽, 2001:4-5에서 재인용). 정혜숙(2009)은 아내학대와 아동학대가 중복적으로 발생할 경우 학대당한 아내는 피해자 비난과 모성 비난 두가지를 직면하면서 본인도 피해자임에도 불구하고 지원과 도움을 제공받지 못하게 됨을 지적하고 있다. 김재엽(2001:6)에 따르면, 아동학대 가해자로서 어머니가 많은 이유에 대해, 자녀의 교육에 대한 책임이 우선적으로 어머니에게 있으며 어머니가 아버지보다 자녀와 보내는 시간이 절대적으로 많다는 점으로, 아버지가 많은 이유에 대해서는 남성이 여성보다 공격적이고 사회적으로 남성의 폭력이 보다 허용적이라는 점으로 해외 연구결과를 인용하여 설명하고 있다.',\n",
       " 'qa': [{'instruction': '누구에게 부모 교육에 대한 책임이 절대적으로 있어',\n",
       "   'response': '문장에서 답변을 제공할 수 없습니다.'}]}"
      ]
     },
     "execution_count": 75,
     "metadata": {},
     "output_type": "execute_result"
    }
   ],
   "source": [
    "is_impossible_dict[15]"
   ]
  },
  {
   "cell_type": "code",
   "execution_count": 82,
   "id": "6b4bdbd7",
   "metadata": {
    "ExecuteTime": {
     "end_time": "2024-06-05T12:36:39.628232Z",
     "start_time": "2024-06-05T12:36:26.477060Z"
    }
   },
   "outputs": [],
   "source": [
    "new_dict = list(new_dict.values())\n",
    "is_impossible_dict = list(is_impossible_dict.values())\n",
    "with open('preprocessed_possible_도서자료_기계독해.json', 'w', encoding='utf-8') as json_file:\n",
    "    json.dump(new_dict, json_file, ensure_ascii=False, indent=4)\n",
    "with open('preprocessed_impossible_도서자료_기계독해.json', 'w', encoding='utf-8') as json_file:\n",
    "    json.dump(is_impossible_dict, json_file, ensure_ascii=False, indent=4)"
   ]
  },
  {
   "cell_type": "code",
   "execution_count": 4,
   "id": "3e0b0876",
   "metadata": {
    "ExecuteTime": {
     "end_time": "2024-06-05T12:47:29.667692Z",
     "start_time": "2024-06-05T12:47:24.858322Z"
    }
   },
   "outputs": [],
   "source": [
    "with open('preprocessed_possible_도서자료_기계독해.json', 'r', encoding='utf-8') as file:\n",
    "    tmp = json.load(file)"
   ]
  },
  {
   "cell_type": "code",
   "execution_count": 7,
   "id": "49b4891c",
   "metadata": {
    "ExecuteTime": {
     "end_time": "2024-06-05T13:27:07.557587Z",
     "start_time": "2024-06-05T13:27:07.547685Z"
    }
   },
   "outputs": [
    {
     "data": {
      "text/plain": [
       "225000"
      ]
     },
     "execution_count": 7,
     "metadata": {},
     "output_type": "execute_result"
    }
   ],
   "source": [
    "len(tmp)"
   ]
  },
  {
   "cell_type": "code",
   "execution_count": 51,
   "id": "4aef880e",
   "metadata": {
    "ExecuteTime": {
     "end_time": "2024-06-05T12:09:37.362664Z",
     "start_time": "2024-06-05T12:09:37.205944Z"
    },
    "scrolled": true
   },
   "outputs": [
    {
     "data": {
      "text/plain": [
       "900000"
      ]
     },
     "execution_count": 51,
     "metadata": {},
     "output_type": "execute_result"
    }
   ],
   "source": [
    "for i in tmp"
   ]
  },
  {
   "cell_type": "code",
   "execution_count": 5,
   "id": "73c8124a",
   "metadata": {
    "ExecuteTime": {
     "end_time": "2024-06-05T12:47:30.270096Z",
     "start_time": "2024-06-05T12:47:29.669907Z"
    }
   },
   "outputs": [
    {
     "name": "stdout",
     "output_type": "stream",
     "text": [
      "144115856\n"
     ]
    }
   ],
   "source": [
    "text = ''\n",
    "for i in tmp:\n",
    "    text += i['context']\n",
    "    for q in i['qa']:\n",
    "        text += q['instruction'] + q['response']\n",
    "\n",
    "print(len(text))"
   ]
  },
  {
   "cell_type": "code",
   "execution_count": 85,
   "id": "b1c1f6bc",
   "metadata": {
    "ExecuteTime": {
     "end_time": "2024-06-05T12:39:08.245893Z",
     "start_time": "2024-06-05T12:39:08.240302Z"
    }
   },
   "outputs": [
    {
     "data": {
      "text/plain": [
       "225000"
      ]
     },
     "execution_count": 85,
     "metadata": {},
     "output_type": "execute_result"
    }
   ],
   "source": []
  },
  {
   "cell_type": "code",
   "execution_count": 6,
   "id": "75637446",
   "metadata": {
    "ExecuteTime": {
     "end_time": "2024-06-05T12:48:31.321872Z",
     "start_time": "2024-06-05T12:47:30.352111Z"
    }
   },
   "outputs": [
    {
     "name": "stdout",
     "output_type": "stream",
     "text": [
      "'144072804개의 토큰으로 구성됩니다.\n"
     ]
    }
   ],
   "source": [
    "import tiktoken\n",
    "\n",
    "# GPT-3.5-turbo 모델의 토크나이저 불러오기\n",
    "enc = tiktoken.get_encoding(\"cl100k_base\")\n",
    "\n",
    "# 예시 텍스트\n",
    "korean_text = text\n",
    "\n",
    "# 텍스트를 토큰으로 인코딩\n",
    "tokens = enc.encode(korean_text)\n",
    "\n",
    "# 토큰 수 출력\n",
    "print(f\"'{len(tokens)}개의 토큰으로 구성됩니다.\")\n",
    "print(f\"토큰: {tokens}\")"
   ]
  },
  {
   "cell_type": "code",
   "execution_count": null,
   "id": "af259b6e",
   "metadata": {
    "ExecuteTime": {
     "start_time": "2024-06-05T12:46:49.309Z"
    }
   },
   "outputs": [],
   "source": [
    "# 토큰 수 출력\n",
    "print(f\"'{korean_text}'은(는) {len(tokens)}개의 토큰으로 구성됩니다.\")\n",
    "print(f\"토큰: {tokens}\")"
   ]
  },
  {
   "cell_type": "code",
   "execution_count": null,
   "id": "8c7b2ee8",
   "metadata": {},
   "outputs": [],
   "source": [
    "import torch\n",
    "import torch.nn as nn\n",
    "\n",
    "#  \n",
    "\n",
    "class our_model(nn.Module):\n",
    "    def __init__(self, sam_encoder, sam_decoder, blip2_vision_encoder, blip2_qformer, blip2_llm):\n",
    "        super(our_model, self).__init__()\n",
    "             \n",
    "        self.sam_encoder = sam_encoder\n",
    "        self.sam_decoder = sam_decoder\n",
    "        self.blip2_vision_encoder = blip2_vision_encoder\n",
    "        self.blip2_qformer = blip2_qformer\n",
    "        self.blip2_llm = blip2_llm\n",
    "        \n",
    "        # 선형 레이어 추가\n",
    "        self.linear1 = nn.Linear(sam_model.hidden_dim, llm_transformer.hidden_dim)\n",
    "        self.linear2 = nn.Linear(llm_transformer.hidden_dim, sam_model.hidden_dim)\n",
    "        \n",
    "        \n",
    "        # image에 masking하는 함수\n",
    "        self.image_masking_process = ???\n",
    "        \n",
    "    def forward(self, visual_input, text_input, query_embeddings):\n",
    "\n",
    "        sam_embedding = self.sam_encoder(visual_input)\n",
    "        masks = self.sam_encoder(sam_embedding)\n",
    "        \n",
    "        masked_images = self.image_masking_process(visual_input, masks)\n",
    "        \n",
    "        \n",
    "        \n",
    "        self.blip2_vision_encoder()\n",
    "        \n",
    "        \n",
    "        return segmentation_map\n"
   ]
  },
  {
   "cell_type": "code",
   "execution_count": null,
   "id": "acc1696f",
   "metadata": {},
   "outputs": [],
   "source": []
  },
  {
   "cell_type": "code",
   "execution_count": 19,
   "id": "bc0bc6c3",
   "metadata": {
    "ExecuteTime": {
     "end_time": "2024-06-08T09:19:20.564143Z",
     "start_time": "2024-06-08T09:19:13.272325Z"
    }
   },
   "outputs": [],
   "source": [
    "tmp_list = []\n",
    "with open('preprocessed_possible_도서자료_기계독해.json', 'r', encoding='utf-8') as file:\n",
    "    tmp = json.load(file)\n",
    "    \n",
    "for d_v in tmp:\n",
    "    context = d_v['context']\n",
    "    for qa_v in d_v['qa']:\n",
    "        instruction = qa_v['instruction']\n",
    "        response = qa_v['response']\n",
    "        tmp_list.append({'context':context, 'instruction':instruction,'response':response})\n",
    "\n",
    "with open('preprocessed_도서자료_기계독해.json', 'w', encoding='utf-8') as json_file:\n",
    "    json.dump(tmp_list, json_file, ensure_ascii=False, indent=4)"
   ]
  },
  {
   "cell_type": "code",
   "execution_count": 12,
   "id": "bf178e32",
   "metadata": {
    "ExecuteTime": {
     "end_time": "2024-06-08T08:19:16.118539Z",
     "start_time": "2024-06-08T08:19:16.113110Z"
    }
   },
   "outputs": [
    {
     "name": "stderr",
     "output_type": "stream",
     "text": [
      "\n",
      "KeyboardInterrupt\n",
      "\n"
     ]
    }
   ],
   "source": [
    "tmp.values()[0]"
   ]
  }
 ],
 "metadata": {
  "kernelspec": {
   "display_name": "FGVP",
   "language": "python",
   "name": "fgvp"
  },
  "language_info": {
   "codemirror_mode": {
    "name": "ipython",
    "version": 3
   },
   "file_extension": ".py",
   "mimetype": "text/x-python",
   "name": "python",
   "nbconvert_exporter": "python",
   "pygments_lexer": "ipython3",
   "version": "3.8.19"
  },
  "toc": {
   "base_numbering": 1,
   "nav_menu": {},
   "number_sections": false,
   "sideBar": true,
   "skip_h1_title": false,
   "title_cell": "Table of Contents",
   "title_sidebar": "Contents",
   "toc_cell": false,
   "toc_position": {},
   "toc_section_display": true,
   "toc_window_display": false
  }
 },
 "nbformat": 4,
 "nbformat_minor": 5
}
